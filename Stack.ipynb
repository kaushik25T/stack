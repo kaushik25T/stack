{
 "cells": [
  {
   "cell_type": "code",
   "execution_count": 136,
   "metadata": {},
   "outputs": [],
   "source": [
    "def push(num,stack):\n",
    "    stack.append(num)\n",
    "    return stack\n",
    "    \n",
    "    "
   ]
  },
  {
   "cell_type": "code",
   "execution_count": 137,
   "metadata": {},
   "outputs": [],
   "source": [
    "def pop(stack):\n",
    "    stack.pop()\n",
    "    return stack\n",
    "    "
   ]
  },
  {
   "cell_type": "code",
   "execution_count": 138,
   "metadata": {},
   "outputs": [],
   "source": [
    "def peek(stack):\n",
    "    if len(stack)==0:\n",
    "        print(\"Stack is empty\")\n",
    "        return\n",
    "    for i in stack:\n",
    "        p=i\n",
    "    print(p)"
   ]
  },
  {
   "cell_type": "code",
   "execution_count": 141,
   "metadata": {},
   "outputs": [
    {
     "name": "stdout",
     "output_type": "stream",
     "text": [
      "Enter your choice, push , pop , peek or stack stack\n",
      "[5]\n"
     ]
    }
   ],
   "source": [
    "choice=input(\"Enter your choice, push , pop , peek or stack \")\n",
    "if choice==\"push\":\n",
    "    num=int(input(\"Enter the number you want to push \"))\n",
    "    stack=push(num,stack)\n",
    "    print(stack)\n",
    "elif choice==\"pop\":\n",
    "    stack=pop(stack)\n",
    "    print(stack)\n",
    "elif choice==\"peek\":\n",
    "    peek(stack)\n",
    "elif choice==\"stack\":\n",
    "    print(result_stack)\n",
    "else:\n",
    "    print(\"Enter right choice\")\n",
    "    \n"
   ]
  },
  {
   "cell_type": "code",
   "execution_count": null,
   "metadata": {},
   "outputs": [],
   "source": []
  }
 ],
 "metadata": {
  "kernelspec": {
   "display_name": "Python 3",
   "language": "python",
   "name": "python3"
  },
  "language_info": {
   "codemirror_mode": {
    "name": "ipython",
    "version": 3
   },
   "file_extension": ".py",
   "mimetype": "text/x-python",
   "name": "python",
   "nbconvert_exporter": "python",
   "pygments_lexer": "ipython3",
   "version": "3.7.4"
  }
 },
 "nbformat": 4,
 "nbformat_minor": 2
}
